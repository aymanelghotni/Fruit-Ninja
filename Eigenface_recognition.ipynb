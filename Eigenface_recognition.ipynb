{
  "nbformat": 4,
  "nbformat_minor": 0,
  "metadata": {
    "colab": {
      "name": "Eigenface_recognition.ipynb",
      "provenance": [],
      "collapsed_sections": [],
      "toc_visible": true,
      "include_colab_link": true
    },
    "kernelspec": {
      "name": "python3",
      "display_name": "Python 3"
    }
  },
  "cells": [
    {
      "cell_type": "markdown",
      "metadata": {
        "id": "view-in-github",
        "colab_type": "text"
      },
      "source": [
        "<a href=\"https://colab.research.google.com/github/aymanelghotni/Fruit-Ninja/blob/master/Eigenface_recognition.ipynb\" target=\"_parent\"><img src=\"https://colab.research.google.com/assets/colab-badge.svg\" alt=\"Open In Colab\"/></a>"
      ]
    },
    {
      "cell_type": "markdown",
      "metadata": {
        "id": "SHuAvf8Wt-Sk"
      },
      "source": [
        "## 1. Importing Libraries\n",
        "- **numpy**: Deals with multidimensional matrices\n",
        "- **cv2**: Loads image files from source\n",
        "- **random**: Randomizes input \n",
        "- **matplotlib**: Creates interactive visualizations\n",
        "- **sklearn**: Provides useful algorithms for machine learning"
      ]
    },
    {
      "cell_type": "code",
      "metadata": {
        "id": "bm7ISE8x7pYj",
        "colab": {
          "base_uri": "https://localhost:8080/"
        },
        "outputId": "a370d958-d1e6-4403-f2df-e1ebe3d21393"
      },
      "source": [
        "import numpy as np\n",
        "import cv2\n",
        "import random\n",
        "from matplotlib import pypl\n",
        "ot as plt\n",
        "from sklearn.decomposition import PCA\n",
        "from sklearn.neighbors import KNeighborsClassifier\n",
        "\n",
        "from google.colab import drive\n",
        "\n",
        "drive.mount('/content/drive/')"
      ],
      "execution_count": null,
      "outputs": [
        {
          "output_type": "stream",
          "text": [
            "Mounted at /content/drive/\n"
          ],
          "name": "stdout"
        }
      ]
    },
    {
      "cell_type": "markdown",
      "metadata": {
        "id": "N5jICvjxvcAg"
      },
      "source": [
        "## 2. Loading Dataset\n",
        "- Data are loaded through a nested loop using **imread** function in **cv2** library. The outer loop changes the folder (class) of the dataset and the inner loop changes the samples in the same folder (class).\n",
        "- The function gets the path of the dataset to be loaded and returns a (400 x 10305) data matrix.\n",
        "- Each row represents a data sample and each column represents a feature except for the last column which represents the **subject ID**."
      ]
    },
    {
      "cell_type": "code",
      "metadata": {
        "id": "-IYsogfS9ldV"
      },
      "source": [
        "def load_dataset(path):\n",
        "  D = []\n",
        "  for i in range (1, 41):\n",
        "    for j in range (1, 11):\n",
        "      img = cv2.imread(path +\"s\" + str(i) + \"/\" + str(j) + \".pgm\", 0)\n",
        "      img = np.array(img)\n",
        "      vec = img.ravel()\n",
        "      vec = np.append(vec, [i])\n",
        "      D = np.append(D, vec)\n",
        "  D = D.reshape((400, 10305))\n",
        "  return D"
      ],
      "execution_count": null,
      "outputs": []
    },
    {
      "cell_type": "markdown",
      "metadata": {
        "id": "UsJzlmuOxe91"
      },
      "source": [
        "## 3. Splitting Dataset\n",
        "Two functions provide two different approaches of splitting the dataset:\n",
        "\n",
        "1.   **70 to 30 approach:** Creates one randomized array of ten numbers (0 to 9), splits it into two subarrays, one has 7 elements and the other has 3. The two arrays represent the indices of samples in each folder, the 7-elements array represent the training samples and the 3-elements array represents the test samples.\n",
        "2.   **50 to 50 approach:** Creates two arrays (in range of 0 to 9), each of 5 elements. One array contains even numbers and the other contains odd ones. The two arrays represent the indices of samples in each folder, the even one represents the training samples and the odd array represents the test samples.\n",
        "\n",
        "The functions get the data matrix and returns:\n",
        "- Training sample matrix\n",
        "- Test sample matrix\n",
        "- Training sample subject IDs vector\n",
        "- Test sample subject IDs vector\n",
        "\n",
        "\n"
      ]
    },
    {
      "cell_type": "code",
      "metadata": {
        "id": "i__pf2sbg1pZ"
      },
      "source": [
        "def split_dataset_70_30(D):\n",
        "  numberList = [0, 1, 2, 3, 4, 5, 6, 7, 8, 9]\n",
        "  random.shuffle(numberList)\n",
        "  trainIndices = numberList[:7]\n",
        "  testIndices = numberList[7:]\n",
        "  D_Train = D_Test = []\n",
        "  for i in range(40):\n",
        "    for j in trainIndices:\n",
        "      D_Train = np.append(D_Train, D[(i*10) + j, :])\n",
        "    for j in testIndices:\n",
        "      D_Test = np.append(D_Test, D[(i*10) + j, :])\n",
        "  D_Train = D_Train.reshape(280, 10305)\n",
        "  D_Test = D_Test.reshape(120, 10305)\n",
        "  X_train = D_Train[:, :10304]\n",
        "  Y_train = D_Train[:, 10304]\n",
        "  X_test = D_Test[:, :10304]\n",
        "  Y_test = D_Test[:, 10304]\n",
        "  return X_train,X_test,Y_train,Y_test"
      ],
      "execution_count": null,
      "outputs": []
    },
    {
      "cell_type": "code",
      "metadata": {
        "id": "HlsBmxyVvSxj"
      },
      "source": [
        "def split_dataset_50_50(D):\n",
        "  trainIndices = [0, 2, 4, 6, 8]\n",
        "  testIndices = [1, 3, 5, 7, 9]\n",
        "  D_Train = D_Test = []\n",
        "  for i in range(40):\n",
        "    for j in trainIndices:\n",
        "      D_Train = np.append(D_Train, D[(i*10) + j, :])\n",
        "    for j in testIndices:\n",
        "      D_Test = np.append(D_Test, D[(i*10) + j, :])\n",
        "  D_Train = D_Train.reshape(200, 10305)\n",
        "  D_Test = D_Test.reshape(200, 10305)\n",
        "  X_train = D_Train[:, :10304]\n",
        "  Y_train = D_Train[:, 10304]\n",
        "  X_test = D_Test[:, :10304]\n",
        "  Y_test = D_Test[:, 10304]\n",
        "  return X_train,X_test,Y_train,Y_test"
      ],
      "execution_count": null,
      "outputs": []
    },
    {
      "cell_type": "markdown",
      "metadata": {
        "id": "VODsPMQngtl9"
      },
      "source": [
        "## 4. Classification using PCA:\n",
        "The function gets the wanted explained variance and returns an object of type PCA using **sklearn** library."
      ]
    },
    {
      "cell_type": "code",
      "metadata": {
        "id": "HjXVj8IOkMxU"
      },
      "source": [
        "def generate_pca(explained_variance):\n",
        "  pca = PCA(n_components = explained_variance/100, \n",
        "            svd_solver = 'full', copy = True)\n",
        "  return pca"
      ],
      "execution_count": null,
      "outputs": []
    },
    {
      "cell_type": "markdown",
      "metadata": {
        "id": "eOqk816uPITA"
      },
      "source": [
        "## 5. Tuning Classifier using K-NN:\n",
        "The function gets the number of neighbors and returns an object of type KNN Classifier using **sklearn** library."
      ]
    },
    {
      "cell_type": "code",
      "metadata": {
        "id": "1kPc5k0GgNH-"
      },
      "source": [
        "def generate_knn(K):\n",
        "  KNN_classifier = KNeighborsClassifier(n_neighbors = K)\n",
        "  return KNN_classifier"
      ],
      "execution_count": null,
      "outputs": []
    },
    {
      "cell_type": "markdown",
      "metadata": {
        "id": "lB0g2AKhsD8I"
      },
      "source": [
        "## 6. Creating a model:\n",
        "A model gets:\n",
        "- Matrix of Taining set.\n",
        "- Vector of Training set IDs.\n",
        "- Matrix of Test set.\n",
        "- Vector of Test set IDs.\n",
        "- Explained Variance for PCA.\n",
        "- Number of neighbors for K-NN.\n",
        "\n",
        "The model generates a PCA funciton, with a certain explained variance, and a K-NN function, with a certain number of neighbors, then fits the training set into the PCA model and produces a reduced matrix of training set. The test set matrix is reduced to the same number of features as the training set.\n",
        "\n",
        "The reduced matrix of training set is entered in the K-NN function along with the IDs of the original training to fit the results.\n",
        "\n",
        "Finally, predicitons are genereated out of the reduced matrix of test set.\n",
        "\n",
        "The model function returns:\n",
        "- K-NN object\n",
        "- Vector of predictions of the trainig set\n",
        "- Number of components"
      ]
    },
    {
      "cell_type": "code",
      "metadata": {
        "id": "KCghFwJYgHec"
      },
      "source": [
        "def model(X_train, Y_train, X_test, n_neighbors, explained_variance):\n",
        "  pca = generate_pca(explained_variance)\n",
        "  pca.fit(X_train)\n",
        "  X_train_reduced = pca.transform(X_train)\n",
        "  X_test_reduced = pca.transform(X_test)\n",
        "\n",
        "  knn = generate_knn(n_neighbors)\n",
        "  knn.fit(X_train_reduced, Y_train)\n",
        "  predictions = knn.predict(X_test_reduced)\n",
        "  \n",
        "  return knn, predictions, len(X_train_reduced[1, :-1])"
      ],
      "execution_count": null,
      "outputs": []
    },
    {
      "cell_type": "markdown",
      "metadata": {
        "id": "goZo2-6Iv_Sn"
      },
      "source": [
        "## 7. Testing accuracy:\n",
        "Testing accuracy of the predictions given the real IDs vector of the test samples.\n",
        "\n",
        "The accuracy is calculated by dividing the number of true predictions by the total number of predictions.\n",
        "\n",
        "The function gets thes IDs of the test matrix and the prediction vector and returns a float number (accuracy) between 0 and 1."
      ]
    },
    {
      "cell_type": "code",
      "metadata": {
        "id": "eDQw2eAmjMRH"
      },
      "source": [
        "def test_accuracy(Y_test, predictions):\n",
        "  loss = Y_test == predictions\n",
        "  count = 0\n",
        "  for i in loss:\n",
        "    if i == True:\n",
        "      count += 1\n",
        "  return count/len(loss)  "
      ],
      "execution_count": null,
      "outputs": []
    },
    {
      "cell_type": "markdown",
      "metadata": {
        "id": "jiFsPX_DzaAG"
      },
      "source": [
        "#**Loading Dataset through path**:\n",
        "Loading dataset using path on drive."
      ]
    },
    {
      "cell_type": "code",
      "metadata": {
        "id": "TZvCyHyEtXd1"
      },
      "source": [
        "path = \"/content/drive/My Drive/Pattern_Project/dataset_faces/\"\n",
        "dataset = load_dataset(path)"
      ],
      "execution_count": null,
      "outputs": []
    },
    {
      "cell_type": "markdown",
      "metadata": {
        "id": "3K-iYNjRz1cR"
      },
      "source": [
        "#**Testing the 70% to 30% approach**:\n",
        "Testing the 70% to 30% approach with different number of neighbors (1, 3, 5, and 7) and different explained variances (0.8, 0.85, 0.9, and 0.95) and printing accuracy for every option to find the highest accuracy value."
      ]
    },
    {
      "cell_type": "code",
      "metadata": {
        "colab": {
          "base_uri": "https://localhost:8080/"
        },
        "id": "u0f9P2Dlc3E2",
        "outputId": "dcd5ca63-7ebc-46d7-d100-75b89314db19"
      },
      "source": [
        "X_train, X_test, Y_train, Y_test = split_dataset_70_30(dataset)\n",
        "accuracyArray = np.zeros((4, 4))\n",
        "components = np.zeros(4)\n",
        "i = 0\n",
        "for k in range (1, 8, 2):\n",
        "  j = 0\n",
        "  for alpha in range (80, 100, 5):\n",
        "    classifier, predictions, components[j] = model(X_train, Y_train, X_test, k, alpha)\n",
        "    accuracy = test_accuracy(Y_test, predictions)\n",
        "    accuracyArray[i][j] += accuracy\n",
        "    print(\"Accuracy (at 70-30 split) with k = \" + str(k) + \", alpha = \" + str(alpha) + \" = \" + str(accuracy * 100) + \"%\")\n",
        "    j += 1\n",
        "  i += 1"
      ],
      "execution_count": null,
      "outputs": [
        {
          "output_type": "stream",
          "text": [
            "Accuracy (at 70-30 split) with k = 1, alpha = 80 = 95.0%\n",
            "Accuracy (at 70-30 split) with k = 1, alpha = 85 = 95.83333333333334%\n",
            "Accuracy (at 70-30 split) with k = 1, alpha = 90 = 94.16666666666667%\n",
            "Accuracy (at 70-30 split) with k = 1, alpha = 95 = 94.16666666666667%\n",
            "Accuracy (at 70-30 split) with k = 3, alpha = 80 = 94.16666666666667%\n",
            "Accuracy (at 70-30 split) with k = 3, alpha = 85 = 94.16666666666667%\n",
            "Accuracy (at 70-30 split) with k = 3, alpha = 90 = 94.16666666666667%\n",
            "Accuracy (at 70-30 split) with k = 3, alpha = 95 = 94.16666666666667%\n",
            "Accuracy (at 70-30 split) with k = 5, alpha = 80 = 87.5%\n",
            "Accuracy (at 70-30 split) with k = 5, alpha = 85 = 87.5%\n",
            "Accuracy (at 70-30 split) with k = 5, alpha = 90 = 87.5%\n",
            "Accuracy (at 70-30 split) with k = 5, alpha = 95 = 86.66666666666667%\n",
            "Accuracy (at 70-30 split) with k = 7, alpha = 80 = 81.66666666666667%\n",
            "Accuracy (at 70-30 split) with k = 7, alpha = 85 = 82.5%\n",
            "Accuracy (at 70-30 split) with k = 7, alpha = 90 = 80.83333333333333%\n",
            "Accuracy (at 70-30 split) with k = 7, alpha = 95 = 82.5%\n"
          ],
          "name": "stdout"
        }
      ]
    },
    {
      "cell_type": "markdown",
      "metadata": {
        "id": "KkHyoHTk1Adf"
      },
      "source": [
        "#**Testing the 50% to 50% approach**:\n",
        "Testing the 50% to 50% approach with different number of neighbors (1, 3, 5, and 7) and different explained variances (0.8, 0.85, 0.9, and 0.95) and printing accuracy for every option to find the highest accuracy value."
      ]
    },
    {
      "cell_type": "code",
      "metadata": {
        "colab": {
          "base_uri": "https://localhost:8080/"
        },
        "id": "S5cdAh5iqAGR",
        "outputId": "68b1dd69-2fcd-4e27-ba27-14c8d1ed7366"
      },
      "source": [
        "X_train, X_test, Y_train, Y_test = split_dataset_50_50(dataset)\n",
        "accuracyArray = np.zeros((4, 4))\n",
        "components = np.zeros(4)\n",
        "i = 0\n",
        "for k in range (1, 8, 2):\n",
        "  j = 0\n",
        "  for alpha in range (80, 100, 5):\n",
        "    classifier, predictions, components[j] = model(X_train, Y_train, X_test, k, alpha)\n",
        "    accuracy = test_accuracy(Y_test, predictions)\n",
        "    accuracyArray[i][j] += accuracy\n",
        "    print(\"Accuracy (at 50-50 split) with k = \" + str(k) + \", alpha = \" + str(alpha) + \" = \" + str(accuracy * 100) + \"%\")\n",
        "    j += 1\n",
        "  i += 1"
      ],
      "execution_count": null,
      "outputs": [
        {
          "output_type": "stream",
          "text": [
            "Accuracy (at 50-50 split) with k = 1, alpha = 80 = 95.0%\n",
            "Accuracy (at 50-50 split) with k = 1, alpha = 85 = 95.0%\n",
            "Accuracy (at 50-50 split) with k = 1, alpha = 90 = 94.0%\n",
            "Accuracy (at 50-50 split) with k = 1, alpha = 95 = 94.0%\n",
            "Accuracy (at 50-50 split) with k = 3, alpha = 80 = 89.5%\n",
            "Accuracy (at 50-50 split) with k = 3, alpha = 85 = 89.5%\n",
            "Accuracy (at 50-50 split) with k = 3, alpha = 90 = 89.0%\n",
            "Accuracy (at 50-50 split) with k = 3, alpha = 95 = 89.5%\n",
            "Accuracy (at 50-50 split) with k = 5, alpha = 80 = 85.0%\n",
            "Accuracy (at 50-50 split) with k = 5, alpha = 85 = 84.5%\n",
            "Accuracy (at 50-50 split) with k = 5, alpha = 90 = 83.5%\n",
            "Accuracy (at 50-50 split) with k = 5, alpha = 95 = 84.5%\n",
            "Accuracy (at 50-50 split) with k = 7, alpha = 80 = 80.5%\n",
            "Accuracy (at 50-50 split) with k = 7, alpha = 85 = 77.5%\n",
            "Accuracy (at 50-50 split) with k = 7, alpha = 90 = 77.0%\n",
            "Accuracy (at 50-50 split) with k = 7, alpha = 95 = 74.0%\n"
          ],
          "name": "stdout"
        }
      ]
    },
    {
      "cell_type": "markdown",
      "metadata": {
        "id": "j-54Ylq4NsLW"
      },
      "source": [
        "##**Plots**:"
      ]
    },
    {
      "cell_type": "markdown",
      "metadata": {
        "id": "iTEAPUl3N1tQ"
      },
      "source": [
        "#### **1. Accuracy & Number of Neighbors:**\n",
        "- Number of neighbors = {1, 3, 5, 7}\n",
        "- Accuracy %\n"
      ]
    },
    {
      "cell_type": "code",
      "metadata": {
        "colab": {
          "base_uri": "https://localhost:8080/"
        },
        "id": "7IpU8t7qspPQ",
        "outputId": "55dd88f7-fe55-4e6d-aeb3-0778dae324f3"
      },
      "source": [
        "plt.plot([1, 3, 5, 7], np.mean(accuracyArray * 100, axis = 1))\n",
        "\n",
        "plt.xlabel('Number of Neighbors (neighbors)')\n",
        "plt.ylabel('Accuracy (%)')\n",
        "plt.grid()"
      ],
      "execution_count": null,
      "outputs": [
        {
          "output_type": "display_data",
          "data": {
            "image/png": "[encoded data removed]",
            "text/plain": [
              "<Figure size 432x288 with 1 Axes>"
            ]
          },
          "metadata": {
            "tags": [],
            "needs_background": "light"
          }
        }
      ]
    },
    {
      "cell_type": "markdown",
      "metadata": {
        "id": "JZ4Xl5TpacE-"
      },
      "source": [
        "#### **2. Accuracy & Explained Variance:**\n",
        "- Explained Variance = {0.8, 0.85, 0.9, 0.95}\n",
        "- Accuracy %\n"
      ]
    },
    {
      "cell_type": "code",
      "metadata": {
        "colab": {
          "base_uri": "https://localhost:8080/",
          "height": 279
        },
        "id": "Ln29v1YqyoN3",
        "outputId": "842a103d-3f0b-4e0c-cb13-f621951f1714"
      },
      "source": [
        "plt.plot([80, 85, 90, 95], np.mean(accuracyArray * 100, axis = 0))\n",
        "\n",
        "plt.xlabel('Explained Variance')\n",
        "plt.ylabel('Accuracy (%)')\n",
        "plt.grid()"
      ],
      "execution_count": null,
      "outputs": [
        {
          "output_type": "display_data",
          "data": {
            "image/png": "[encoded data removed]",
            "text/plain": [
              "<Figure size 432x288 with 1 Axes>"
            ]
          },
          "metadata": {
            "tags": [],
            "needs_background": "light"
          }
        }
      ]
    },
    {
      "cell_type": "markdown",
      "metadata": {
        "id": "r2uTwqZIad4J"
      },
      "source": [
        "#### **3. Number of Components & Explained Variance:**\n",
        "- Explained Variance = {0.8, 0.85, 0.9, 0.95}\n",
        "- Number of Components (Features)\n"
      ]
    },
    {
      "cell_type": "code",
      "metadata": {
        "id": "PAyv4ipfwR9o",
        "colab": {
          "base_uri": "https://localhost:8080/"
        },
        "outputId": "444ccd8c-ecb1-4eb5-b792-f7a38385487c"
      },
      "source": [
        "plt.plot([80, 85, 90, 95], components)\n",
        "\n",
        "plt.xlabel('Explained Variance')\n",
        "plt.ylabel('Number of Components (Components)')\n",
        "plt.grid()"
      ],
      "execution_count": null,
      "outputs": [
        {
          "output_type": "display_data",
          "data": {
            "image/png": "[encoded data removed]",
            "text/plain": [
              "<Figure size 432x288 with 1 Axes>"
            ]
          },
          "metadata": {
            "tags": [],
            "needs_background": "light"
          }
        }
      ]
    },
    {
      "cell_type": "markdown",
      "metadata": {
        "id": "HWLi_Fygauhe"
      },
      "source": [
        "#### **4. Accuracy & Number of Components:**\n",
        "- Number of Components (Features)\n",
        "- Accuracy %\n"
      ]
    },
    {
      "cell_type": "code",
      "metadata": {
        "colab": {
          "base_uri": "https://localhost:8080/",
          "height": 279
        },
        "id": "2uINJ3bz9kXI",
        "outputId": "56da2432-4eb6-44ab-f940-3c6d8da97ec8"
      },
      "source": [
        "plt.plot(components, accuracyArray.mean(axis=0) * 100)\n",
        "\n",
        "plt.xlabel('Number of Components')\n",
        "plt.ylabel('Accuracy (%)')\n",
        "plt.grid()"
      ],
      "execution_count": null,
      "outputs": [
        {
          "output_type": "display_data",
          "data": {
            "image/png": "[encoded data removed]",
            "text/plain": [
              "<Figure size 432x288 with 1 Axes>"
            ]
          },
          "metadata": {
            "tags": [],
            "needs_background": "light"
          }
        }
      ]
    },
    {
      "cell_type": "markdown",
      "metadata": {
        "id": "_EYXUxHCa8BT"
      },
      "source": [
        "##**Extra**:"
      ]
    },
    {
      "cell_type": "markdown",
      "metadata": {
        "id": "-x8G2HkobKqf"
      },
      "source": [
        "#### **Testing Prediction**:\n",
        "- Testing Predictions one by one given explained variance of PCA and number of neighbors of K-NN.\n"
      ]
    },
    {
      "cell_type": "code",
      "metadata": {
        "id": "VEHhqfPn970l"
      },
      "source": [
        "def getPredMyTest(i, j, explained_variance, number_of_neighbors):\n",
        "  img = cv2.imread(path +\"s\" + str(i) + \"/\" + str(j) + \".pgm\", 0)\n",
        "  img = np.array(img)\n",
        "  vec = img.ravel()\n",
        "  \n",
        "  pca = generate_pca(explained_variance)\n",
        "  knn = generate_knn(number_of_neighbors)\n",
        "  pca.fit(X_train)\n",
        "  X_train_reduced = pca.transform(X_train)\n",
        "  knn.fit(X_train_reduced, Y_train)\n",
        "  myTest = pca.transform(vec.reshape(1, -1))\n",
        "  myPrediction = knn.predict(myTest)[0]\n",
        "  \n",
        "  return myPrediction"
      ],
      "execution_count": null,
      "outputs": []
    },
    {
      "cell_type": "code",
      "metadata": {
        "colab": {
          "base_uri": "https://localhost:8080/"
        },
        "id": "qnfK8vNeP7Ay",
        "outputId": "dd6cf5c0-275c-499e-8eb1-83ea453caf26"
      },
      "source": [
        "myClass = 31\n",
        "myPic = 4\n",
        "a = 95\n",
        "k = 1\n",
        "myPrediction = getPredMyTest(myClass, myPic, a, k)\n",
        "print(\"My prediction for (\" + str(myClass) + \") at 'a' = (\" + \n",
        "      str(a) + \"%) and 'k' = (\" + str(k) + \") is:     \" + str(myPrediction))"
      ],
      "execution_count": null,
      "outputs": [
        {
          "output_type": "stream",
          "text": [
            "My prediction for (31) at 'a' = (95%) and 'k' = (1) is:     31.0\n"
          ],
          "name": "stdout"
        }
      ]
    },
    {
      "cell_type": "code",
      "metadata": {
        "id": "dyGXv4MxI7EN"
      },
      "source": [
        ""
      ],
      "execution_count": null,
      "outputs": []
    }
  ]
}